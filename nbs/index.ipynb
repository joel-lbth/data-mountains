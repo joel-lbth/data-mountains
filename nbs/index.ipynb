{
 "cells": [
  {
   "cell_type": "code",
   "execution_count": 1,
   "metadata": {},
   "outputs": [],
   "source": [
    "#| hide\n",
    "import data_mountains.mountainise as dm\n"
   ]
  },
  {
   "cell_type": "code",
   "execution_count": 2,
   "metadata": {},
   "outputs": [],
   "source": [
    "# requirements\n",
    "\n",
    "import pandas as pd\n",
    "import geopandas as gpd\n",
    "from shapely.geometry import Polygon, Point, LineString, GeometryCollection\n",
    "from shapely.ops import unary_union, transform\n",
    "import altair as alt\n",
    "import math\n",
    "import matplotlib.pyplot as plt\n"
   ]
  },
  {
   "cell_type": "markdown",
   "metadata": {},
   "source": [
    "# data-mountains\n",
    "\n",
    "> turn a geodataframe of points into mountains, scaled by a data attribute associated with each point"
   ]
  },
  {
   "cell_type": "markdown",
   "metadata": {},
   "source": [
    "## Install"
   ]
  },
  {
   "cell_type": "markdown",
   "metadata": {},
   "source": [
    "```sh\n",
    "pip install data_mountains\n",
    "```"
   ]
  },
  {
   "cell_type": "markdown",
   "metadata": {},
   "source": [
    "## How to use"
   ]
  },
  {
   "cell_type": "code",
   "execution_count": 3,
   "metadata": {},
   "outputs": [],
   "source": [
    "%%capture\n",
    "\n",
    "# import the library\n",
    "import data_mountains.mountainise as dm\n",
    "\n",
    "# some census output area population density data\n",
    "popden_oa = pd.read_csv('https://gist.github.com/joel-lbth/b35c0ac7a3652c3f34441d25c45ea84a/raw/d69075dc707b5bdb06c9b640d43db1e5b2ffcb64/lbth_census_2021_pop_density_oa.csv')\n",
    "\n",
    "# some census output area population weighted centroids\n",
    "oa = gpd.read_file(\"https://gist.github.com/joel-lbth/00f24602797d51d02d2177ed82f9295d/raw/b6c26621504a0df20ef6db1c93e5f99bce911d0a/lbth_oa21_pop_centroids.geojson\")\n",
    "\n",
    "# add data attribute to each point by merging on common identifier\n",
    "gdf = oa.merge(popden_oa, left_on='oa21cd', right_on='GEOGRAPHY_CODE')\n",
    "\n",
    "# turn each point in a data sized mountain\n",
    "gdf = dm.points_to_peaks(gdf=gdf, column='OBS_VALUE', range=[0, 0.01])\n"
   ]
  },
  {
   "cell_type": "code",
   "execution_count": 4,
   "metadata": {},
   "outputs": [],
   "source": [
    "%%capture\n",
    "# use Altair to create the visual\n",
    "dm.plot(gdf=gdf, fill='#eee', stroke='#333')"
   ]
  },
  {
   "attachments": {},
   "cell_type": "markdown",
   "metadata": {},
   "source": [
    "![](https://raw.githubusercontent.com/joel-lbth/data-mountains/main/nbs/visualization.svg)"
   ]
  },
  {
   "cell_type": "code",
   "execution_count": null,
   "metadata": {},
   "outputs": [],
   "source": []
  }
 ],
 "metadata": {
  "kernelspec": {
   "display_name": "census-data",
   "language": "python",
   "name": "python3"
  },
  "language_info": {
   "codemirror_mode": {
    "name": "ipython",
    "version": 3
   },
   "file_extension": ".py",
   "mimetype": "text/x-python",
   "name": "python",
   "nbconvert_exporter": "python",
   "pygments_lexer": "ipython3",
   "version": "3.9.12"
  },
  "vscode": {
   "interpreter": {
    "hash": "d0e995891e850d149046d385a65915c7aedf69222cc5550ee5fe828f204f0ddd"
   }
  }
 },
 "nbformat": 4,
 "nbformat_minor": 4
}
